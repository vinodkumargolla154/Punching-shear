{
 "cells": [
  {
   "cell_type": "code",
   "execution_count": 1,
   "id": "f0ff4989",
   "metadata": {},
   "outputs": [],
   "source": [
    "import math"
   ]
  },
  {
   "cell_type": "markdown",
   "id": "d40e5a13",
   "metadata": {},
   "source": [
    "# Basic parameters"
   ]
  },
  {
   "cell_type": "code",
   "execution_count": 2,
   "id": "470787a2",
   "metadata": {},
   "outputs": [],
   "source": [
    "# --- GEOMETRY ---\n",
    "\n",
    "ts = 300.0           # thickness of slab [mm]\n",
    "cover = 25.0         # Slab cover [mm]\n",
    "bar_dia = 16         # longitudinal bar dia [mm]\n",
    "\n",
    "\n",
    "d1 = ts-cover-bar_dia/2\n",
    "d2 = ts-cover-bar_dia-(bar_dia/2)\n",
    "d  = (d1+d2)/2       # Effective depth (d) [mm]\n",
    "      \n",
    "c1 = 500.0           # Column dimension 1 (c1) [mm]\n",
    "c2 = 400.0           # Column dimension 2 (c2) [mm]\n",
    "\n",
    "# --- LOADS & MATERIALS ---\n",
    "V_Ed = 1000*1000    # Design Punching Force at column perimeter (V_Ed) [N]\n",
    "\n",
    "fck = 30.0           # Concrete strength (fck) [MPa]\n",
    "ρ = 0.006            # Tension reinforcement ratio (rho_l) [unitless]\n",
    "fy = 500.0           # Steel yield strength (fy) [MPa]\n",
    "\n",
    "γc = 1.5             # Partial safety factor for concrete\n",
    "γs = 1.15            # Partial safety factor for steel\n",
    "C_RD_C = 0.18/γc     # Resistance coefficient (0.18 / GAMMA_C)"
   ]
  },
  {
   "attachments": {
    "image.png": {
     "image/png": "[encoded data removed]"
    }
   },
   "cell_type": "markdown",
   "id": "db8e6d3a",
   "metadata": {},
   "source": [
    "# ![image.png](attachment:image.png)"
   ]
  },
  {
   "cell_type": "code",
   "execution_count": 3,
   "id": "2572026c",
   "metadata": {},
   "outputs": [],
   "source": [
    "def get_punching_parameters(location, c1, c2, d):\n",
    "    \"\"\"Calculates Beta, u0, and u1 based on column location.\"\"\"\n",
    "    loc = location.upper()\n",
    "    \n",
    "    if loc == 'INTERNAL':\n",
    "        β = 1.15\n",
    "        u0 = 2 * (c1 + c2)\n",
    "        u1 = 2 * (c1 + c2) + 4 * math.pi * d \n",
    "        \n",
    "    elif loc == 'EDGE':\n",
    "        β = 1.40\n",
    "        u0 = (c1 + 2 * c2)\n",
    "        u1 = (c1 + 2 * c2) + 3 * math.pi * d \n",
    "        \n",
    "    elif loc == 'CORNER':\n",
    "        β = 1.50\n",
    "        u0 = c1 + c2\n",
    "        u1 = (c1 + c2) + 2 * math.pi * d\n",
    "        \n",
    "    else:\n",
    "        raise ValueError(\"Location must be 'INTERNAL', 'EDGE', or 'CORNER'.\")\n",
    "        \n",
    "    return β, u0, u1, loc"
   ]
  },
  {
   "cell_type": "markdown",
   "id": "feb6a639",
   "metadata": {},
   "source": [
    "# punching shear resistance at column perimeter"
   ]
  },
  {
   "cell_type": "code",
   "execution_count": 4,
   "id": "562967b8",
   "metadata": {},
   "outputs": [
    {
     "name": "stdout",
     "output_type": "stream",
     "text": [
      "v_Ed,0 (shear stress at column perimeter): 2.467 MPa\n",
      "v_Rd,max (shear resistance at column perimeter): 5.280 MPa\n",
      "Utilization Ratio: 0.467 (PASS)\n"
     ]
    }
   ],
   "source": [
    "# --- CHOOSE LOCATION ---\n",
    "LOCATION = 'INTERNAL'  # Options: 'INTERNAL', 'EDGE', 'CORNER'\n",
    "\n",
    "# --- CALCULATE GEOMETRY AND FACTORS BASED ON LOCATION ---\n",
    "β, U0, U1, LOC_STR = get_punching_parameters(LOCATION, c1, c2, d)\n",
    "\n",
    "v_Ed_0 = (β * V_Ed) / (U0 * d)\n",
    "\n",
    "print(f\"v_Ed,0 (shear stress at column perimeter): {v_Ed_0:.3f} MPa\")\n",
    "\n",
    "def calculate_v_rd_max(fck):\n",
    "    fcd = fck / γc\n",
    "    nu = 0.6 * (1 - fck / 250)\n",
    "    return 0.5 * nu * fcd\n",
    "\n",
    "v_Rd_max = calculate_v_rd_max(fck)\n",
    "\n",
    "\n",
    "print(f\"v_Rd,max (shear resistance at column perimeter): {v_Rd_max:.3f} MPa\")\n",
    "\n",
    "RATIO_U0 = v_Ed_0 / v_Rd_max\n",
    "\n",
    "print(f\"Utilization Ratio: {RATIO_U0:.3f} ({'PASS' if RATIO_U0 <= 1.0 else 'FAIL'})\")"
   ]
  },
  {
   "cell_type": "markdown",
   "id": "4e92be3e",
   "metadata": {},
   "source": [
    "# punching shear resistance at control perimeter"
   ]
  },
  {
   "cell_type": "code",
   "execution_count": 5,
   "id": "e9da83a7",
   "metadata": {},
   "outputs": [
    {
     "name": "stdout",
     "output_type": "stream",
     "text": [
      "v_Ed,1 (shear stress at control perimeter) : 0.878 MPa\n",
      "v_Rd,c (shear resistance at control perimeter): 0.591 MPa\n",
      "Utilization Ratio: 1.487 (FAIL)\n",
      ">>> CONCLUSION: Punching shear reinforcement is REQUIRED!\n"
     ]
    }
   ],
   "source": [
    "v_Ed_1 = (β * V_Ed) / (U1 * d)\n",
    "\n",
    "print(f\"v_Ed,1 (shear stress at control perimeter) : {v_Ed_1:.3f} MPa\")\n",
    "\n",
    "def calculate_v_rd_c(d, fck, ρ):\n",
    "    k = min(1 + math.sqrt(200 / d), 2.0)\n",
    "    v_min = 0.035 * k**1.5 * fck**0.5\n",
    "    v_rd_c_calc = C_RD_C * k * (100 * ρ * fck)**(1/3)\n",
    "    return max(v_rd_c_calc, v_min)\n",
    "\n",
    "v_Rd_c = calculate_v_rd_c(d, fck, ρ)\n",
    "print(f\"v_Rd,c (shear resistance at control perimeter): {v_Rd_c:.3f} MPa\")\n",
    "\n",
    "RATIO_U1 = v_Ed_1 / v_Rd_c\n",
    "\n",
    "print(f\"Utilization Ratio: {RATIO_U1:.3f} ({'FAIL' if RATIO_U1 > 1.0 else 'PASS'})\")\n",
    "\n",
    "if RATIO_U1 > 1.0:\n",
    "    print(\">>> CONCLUSION: Punching shear reinforcement is REQUIRED!\")\n",
    "else:\n",
    "    print(\">>> CONCLUSION: Punching shear reinforcement NOT required. Stopping here.\")"
   ]
  },
  {
   "cell_type": "code",
   "execution_count": null,
   "id": "d8735ccc",
   "metadata": {},
   "outputs": [],
   "source": []
  }
 ],
 "metadata": {
  "kernelspec": {
   "display_name": "Python 3 (ipykernel)",
   "language": "python",
   "name": "python3"
  },
  "language_info": {
   "codemirror_mode": {
    "name": "ipython",
    "version": 3
   },
   "file_extension": ".py",
   "mimetype": "text/x-python",
   "name": "python",
   "nbconvert_exporter": "python",
   "pygments_lexer": "ipython3",
   "version": "3.11.5"
  }
 },
 "nbformat": 4,
 "nbformat_minor": 5
}
